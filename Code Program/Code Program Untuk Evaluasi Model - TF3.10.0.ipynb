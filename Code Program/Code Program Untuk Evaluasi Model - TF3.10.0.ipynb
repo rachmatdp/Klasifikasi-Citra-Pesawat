{
 "cells": [
  {
   "cell_type": "markdown",
   "id": "babc0d98",
   "metadata": {},
   "source": [
    "# 1. Load Data"
   ]
  },
  {
   "cell_type": "code",
   "execution_count": 1,
   "id": "8bd6c012",
   "metadata": {},
   "outputs": [],
   "source": [
    "import os\n",
    "import numpy as np\n",
    "import cv2\n",
    "import h5py\n",
    "import tensorflow as tf\n",
    "import matplotlib.pyplot as plt\n",
    "from sklearn.model_selection import train_test_split\n",
    "from tensorflow.keras.preprocessing.image import ImageDataGenerator\n",
    "from tensorflow.keras.applications import ResNet50, ResNet101, ResNet152\n",
    "from tensorflow.keras.models import Model\n",
    "from tensorflow.keras.layers import Dense, Flatten, GlobalAveragePooling2D\n",
    "from tensorflow.keras.optimizers import Adam\n",
    "from tensorflow.keras.utils import to_categorical\n",
    "from sklearn.metrics import precision_score, recall_score, f1_score\n",
    "from tensorflow.keras.models import load_model\n",
    "from sklearn.metrics import classification_report\n",
    "import pandas as pd"
   ]
  },
  {
   "cell_type": "markdown",
   "id": "f54e6e05",
   "metadata": {},
   "source": [
    "# 2. Load Dataset"
   ]
  },
  {
   "cell_type": "code",
   "execution_count": 2,
   "id": "d7d47bba",
   "metadata": {},
   "outputs": [
    {
     "name": "stdout",
     "output_type": "stream",
     "text": [
      "Dataset loaded successfully!\n"
     ]
    }
   ],
   "source": [
    "with h5py.File(\"dataset.h5\", \"r\") as hf:\n",
    "    x_train = hf[\"train_images\"][:]\n",
    "    y_train = hf[\"train_labels\"][:]\n",
    "    x_val = hf[\"val_images\"][:]\n",
    "    y_val = hf[\"val_labels\"][:]\n",
    "    x_test = hf[\"test_images\"][:]\n",
    "    y_test = hf[\"test_labels\"][:]\n",
    "    print(\"Dataset loaded successfully!\")"
   ]
  },
  {
   "cell_type": "markdown",
   "id": "2fb960db",
   "metadata": {},
   "source": [
    "# 3. Evaluasi Model"
   ]
  },
  {
   "cell_type": "code",
   "execution_count": 3,
   "id": "58db855c",
   "metadata": {},
   "outputs": [
    {
     "name": "stdout",
     "output_type": "stream",
     "text": [
      "15/15 [==============================] - 148s 10s/step\n",
      "\n",
      "Model: ResNet101_aug_bs16\n",
      "              precision    recall  f1-score   support\n",
      "\n",
      "           0       0.00      0.00      0.00        59\n",
      "           1       0.00      0.00      0.00        59\n",
      "           2       0.00      0.00      0.00        61\n",
      "           3       0.00      0.00      0.00        60\n",
      "           4       0.00      0.00      0.00        51\n",
      "           5       0.00      0.00      0.00        53\n",
      "           6       0.11      1.00      0.20        51\n",
      "           7       0.00      0.00      0.00        58\n",
      "\n",
      "    accuracy                           0.11       452\n",
      "   macro avg       0.01      0.12      0.03       452\n",
      "weighted avg       0.01      0.11      0.02       452\n",
      "\n"
     ]
    },
    {
     "name": "stderr",
     "output_type": "stream",
     "text": [
      "c:\\python37\\lib\\site-packages\\sklearn\\metrics\\_classification.py:1318: UndefinedMetricWarning: Precision is ill-defined and being set to 0.0 in labels with no predicted samples. Use `zero_division` parameter to control this behavior.\n",
      "  _warn_prf(average, modifier, msg_start, len(result))\n",
      "c:\\python37\\lib\\site-packages\\sklearn\\metrics\\_classification.py:1318: UndefinedMetricWarning: Precision and F-score are ill-defined and being set to 0.0 in labels with no predicted samples. Use `zero_division` parameter to control this behavior.\n",
      "  _warn_prf(average, modifier, msg_start, len(result))\n",
      "c:\\python37\\lib\\site-packages\\sklearn\\metrics\\_classification.py:1318: UndefinedMetricWarning: Precision and F-score are ill-defined and being set to 0.0 in labels with no predicted samples. Use `zero_division` parameter to control this behavior.\n",
      "  _warn_prf(average, modifier, msg_start, len(result))\n",
      "c:\\python37\\lib\\site-packages\\sklearn\\metrics\\_classification.py:1318: UndefinedMetricWarning: Precision and F-score are ill-defined and being set to 0.0 in labels with no predicted samples. Use `zero_division` parameter to control this behavior.\n",
      "  _warn_prf(average, modifier, msg_start, len(result))\n"
     ]
    },
    {
     "name": "stdout",
     "output_type": "stream",
     "text": [
      "15/15 [==============================] - 192s 12s/step\n",
      "\n",
      "Model: ResNet101_aug_bs32\n",
      "              precision    recall  f1-score   support\n",
      "\n",
      "           0       0.23      0.32      0.27        59\n",
      "           1       0.30      0.05      0.09        59\n",
      "           2       0.25      0.02      0.03        61\n",
      "           3       0.65      0.50      0.57        60\n",
      "           4       0.31      0.16      0.21        51\n",
      "           5       0.32      0.43      0.37        53\n",
      "           6       0.15      0.25      0.19        51\n",
      "           7       0.22      0.48      0.30        58\n",
      "\n",
      "    accuracy                           0.28       452\n",
      "   macro avg       0.30      0.28      0.25       452\n",
      "weighted avg       0.31      0.28      0.25       452\n",
      "\n"
     ]
    },
    {
     "ename": "ValueError",
     "evalue": "Unrecognized keyword arguments: ['batch_shape']",
     "output_type": "error",
     "traceback": [
      "\u001b[1;31m---------------------------------------------------------------------------\u001b[0m",
      "\u001b[1;31mValueError\u001b[0m                                Traceback (most recent call last)",
      "\u001b[1;32m~\\AppData\\Local\\Temp\\ipykernel_9360\\495345411.py\u001b[0m in \u001b[0;36m<module>\u001b[1;34m\u001b[0m\n\u001b[0;32m      5\u001b[0m \u001b[1;33m\u001b[0m\u001b[0m\n\u001b[0;32m      6\u001b[0m \u001b[1;32mfor\u001b[0m \u001b[0mfile\u001b[0m \u001b[1;32min\u001b[0m \u001b[0mmodel_files\u001b[0m\u001b[1;33m:\u001b[0m\u001b[1;33m\u001b[0m\u001b[1;33m\u001b[0m\u001b[0m\n\u001b[1;32m----> 7\u001b[1;33m     \u001b[0mmodel\u001b[0m \u001b[1;33m=\u001b[0m \u001b[0mload_model\u001b[0m\u001b[1;33m(\u001b[0m\u001b[0mfile\u001b[0m\u001b[1;33m)\u001b[0m\u001b[1;33m\u001b[0m\u001b[1;33m\u001b[0m\u001b[0m\n\u001b[0m\u001b[0;32m      8\u001b[0m     \u001b[0mname\u001b[0m \u001b[1;33m=\u001b[0m \u001b[0mfile\u001b[0m\u001b[1;33m.\u001b[0m\u001b[0mreplace\u001b[0m\u001b[1;33m(\u001b[0m\u001b[1;34m'.h5'\u001b[0m\u001b[1;33m,\u001b[0m \u001b[1;34m''\u001b[0m\u001b[1;33m)\u001b[0m\u001b[1;33m\u001b[0m\u001b[1;33m\u001b[0m\u001b[0m\n\u001b[0;32m      9\u001b[0m \u001b[1;33m\u001b[0m\u001b[0m\n",
      "\u001b[1;32mc:\\python37\\lib\\site-packages\\keras\\utils\\traceback_utils.py\u001b[0m in \u001b[0;36merror_handler\u001b[1;34m(*args, **kwargs)\u001b[0m\n\u001b[0;32m     68\u001b[0m             \u001b[1;31m# To get the full stack trace, call:\u001b[0m\u001b[1;33m\u001b[0m\u001b[1;33m\u001b[0m\u001b[1;33m\u001b[0m\u001b[0m\n\u001b[0;32m     69\u001b[0m             \u001b[1;31m# `tf.debugging.disable_traceback_filtering()`\u001b[0m\u001b[1;33m\u001b[0m\u001b[1;33m\u001b[0m\u001b[1;33m\u001b[0m\u001b[0m\n\u001b[1;32m---> 70\u001b[1;33m             \u001b[1;32mraise\u001b[0m \u001b[0me\u001b[0m\u001b[1;33m.\u001b[0m\u001b[0mwith_traceback\u001b[0m\u001b[1;33m(\u001b[0m\u001b[0mfiltered_tb\u001b[0m\u001b[1;33m)\u001b[0m \u001b[1;32mfrom\u001b[0m \u001b[1;32mNone\u001b[0m\u001b[1;33m\u001b[0m\u001b[1;33m\u001b[0m\u001b[0m\n\u001b[0m\u001b[0;32m     71\u001b[0m         \u001b[1;32mfinally\u001b[0m\u001b[1;33m:\u001b[0m\u001b[1;33m\u001b[0m\u001b[1;33m\u001b[0m\u001b[0m\n\u001b[0;32m     72\u001b[0m             \u001b[1;32mdel\u001b[0m \u001b[0mfiltered_tb\u001b[0m\u001b[1;33m\u001b[0m\u001b[1;33m\u001b[0m\u001b[0m\n",
      "\u001b[1;32mc:\\python37\\lib\\site-packages\\keras\\engine\\input_layer.py\u001b[0m in \u001b[0;36m__init__\u001b[1;34m(self, input_shape, batch_size, dtype, input_tensor, sparse, name, ragged, type_spec, **kwargs)\u001b[0m\n\u001b[0;32m    151\u001b[0m         \u001b[1;32mif\u001b[0m \u001b[0mkwargs\u001b[0m\u001b[1;33m:\u001b[0m\u001b[1;33m\u001b[0m\u001b[1;33m\u001b[0m\u001b[0m\n\u001b[0;32m    152\u001b[0m             raise ValueError(\n\u001b[1;32m--> 153\u001b[1;33m                 \u001b[1;34mf\"Unrecognized keyword arguments: {list(kwargs.keys())}\"\u001b[0m\u001b[1;33m\u001b[0m\u001b[1;33m\u001b[0m\u001b[0m\n\u001b[0m\u001b[0;32m    154\u001b[0m             )\n\u001b[0;32m    155\u001b[0m \u001b[1;33m\u001b[0m\u001b[0m\n",
      "\u001b[1;31mValueError\u001b[0m: Unrecognized keyword arguments: ['batch_shape']"
     ]
    }
   ],
   "source": [
    "# Cari semua file .h5 model di folder ini (kecuali dataset.h5)\n",
    "model_files = [f for f in os.listdir() if f.endswith('.h5') and f != 'dataset.h5']\n",
    "\n",
    "eval_results = {}\n",
    "\n",
    "for file in model_files:\n",
    "    model = load_model(file)\n",
    "    name = file.replace('.h5', '')\n",
    "    \n",
    "    y_pred = np.argmax(model.predict(x_test), axis=1)\n",
    "    y_true = np.argmax(y_test, axis=1)\n",
    "\n",
    "    precision = precision_score(y_true, y_pred, average='macro')\n",
    "    recall = recall_score(y_true, y_pred, average='macro')\n",
    "    f1 = f1_score(y_true, y_pred, average='macro')\n",
    "    \n",
    "    print(f\"\\nModel: {name}\")\n",
    "    print(classification_report(y_true, y_pred))\n",
    "    \n",
    "    eval_results[name] = [precision, recall, f1]\n",
    "\n",
    "# Simpan ke CSV\n",
    "df_eval = pd.DataFrame.from_dict(eval_results, orient='index', columns=['Precision', 'Recall', 'F1-Score'])\n",
    "df_eval.to_csv(\"evaluasi_semua_model.csv\")"
   ]
  },
  {
   "cell_type": "code",
   "execution_count": 4,
   "id": "7ce5f47d",
   "metadata": {},
   "outputs": [
    {
     "name": "stdout",
     "output_type": "stream",
     "text": [
      "15/15 [==============================] - 154s 10s/step\n",
      "\n",
      "Model: ResNet101_aug_bs16\n",
      "              precision    recall  f1-score   support\n",
      "\n",
      "           0       0.00      0.00      0.00        59\n",
      "           1       0.00      0.00      0.00        59\n",
      "           2       0.00      0.00      0.00        61\n",
      "           3       0.00      0.00      0.00        60\n",
      "           4       0.00      0.00      0.00        51\n",
      "           5       0.00      0.00      0.00        53\n",
      "           6       0.11      1.00      0.20        51\n",
      "           7       0.00      0.00      0.00        58\n",
      "\n",
      "    accuracy                           0.11       452\n",
      "   macro avg       0.01      0.12      0.03       452\n",
      "weighted avg       0.01      0.11      0.02       452\n",
      "\n"
     ]
    },
    {
     "name": "stderr",
     "output_type": "stream",
     "text": [
      "c:\\python37\\lib\\site-packages\\sklearn\\metrics\\_classification.py:1318: UndefinedMetricWarning: Precision is ill-defined and being set to 0.0 in labels with no predicted samples. Use `zero_division` parameter to control this behavior.\n",
      "  _warn_prf(average, modifier, msg_start, len(result))\n",
      "c:\\python37\\lib\\site-packages\\sklearn\\metrics\\_classification.py:1318: UndefinedMetricWarning: Precision and F-score are ill-defined and being set to 0.0 in labels with no predicted samples. Use `zero_division` parameter to control this behavior.\n",
      "  _warn_prf(average, modifier, msg_start, len(result))\n",
      "c:\\python37\\lib\\site-packages\\sklearn\\metrics\\_classification.py:1318: UndefinedMetricWarning: Precision and F-score are ill-defined and being set to 0.0 in labels with no predicted samples. Use `zero_division` parameter to control this behavior.\n",
      "  _warn_prf(average, modifier, msg_start, len(result))\n",
      "c:\\python37\\lib\\site-packages\\sklearn\\metrics\\_classification.py:1318: UndefinedMetricWarning: Precision and F-score are ill-defined and being set to 0.0 in labels with no predicted samples. Use `zero_division` parameter to control this behavior.\n",
      "  _warn_prf(average, modifier, msg_start, len(result))\n"
     ]
    },
    {
     "name": "stdout",
     "output_type": "stream",
     "text": [
      "15/15 [==============================] - 169s 11s/step\n",
      "\n",
      "Model: ResNet101_aug_bs32\n",
      "              precision    recall  f1-score   support\n",
      "\n",
      "           0       0.23      0.32      0.27        59\n",
      "           1       0.30      0.05      0.09        59\n",
      "           2       0.25      0.02      0.03        61\n",
      "           3       0.65      0.50      0.57        60\n",
      "           4       0.31      0.16      0.21        51\n",
      "           5       0.32      0.43      0.37        53\n",
      "           6       0.15      0.25      0.19        51\n",
      "           7       0.22      0.48      0.30        58\n",
      "\n",
      "    accuracy                           0.28       452\n",
      "   macro avg       0.30      0.28      0.25       452\n",
      "weighted avg       0.31      0.28      0.25       452\n",
      "\n"
     ]
    },
    {
     "ename": "ValueError",
     "evalue": "Unrecognized keyword arguments: ['batch_shape']",
     "output_type": "error",
     "traceback": [
      "\u001b[1;31m---------------------------------------------------------------------------\u001b[0m",
      "\u001b[1;31mValueError\u001b[0m                                Traceback (most recent call last)",
      "\u001b[1;32m~\\AppData\\Local\\Temp\\ipykernel_9360\\1051686061.py\u001b[0m in \u001b[0;36m<module>\u001b[1;34m\u001b[0m\n\u001b[0;32m      5\u001b[0m \u001b[1;33m\u001b[0m\u001b[0m\n\u001b[0;32m      6\u001b[0m \u001b[1;32mfor\u001b[0m \u001b[0mfile\u001b[0m \u001b[1;32min\u001b[0m \u001b[0mmodel_files\u001b[0m\u001b[1;33m:\u001b[0m\u001b[1;33m\u001b[0m\u001b[1;33m\u001b[0m\u001b[0m\n\u001b[1;32m----> 7\u001b[1;33m     \u001b[0mmodel\u001b[0m \u001b[1;33m=\u001b[0m \u001b[0mload_model\u001b[0m\u001b[1;33m(\u001b[0m\u001b[0mfile\u001b[0m\u001b[1;33m,\u001b[0m \u001b[0mcompile\u001b[0m\u001b[1;33m=\u001b[0m\u001b[1;32mFalse\u001b[0m\u001b[1;33m)\u001b[0m\u001b[1;33m\u001b[0m\u001b[1;33m\u001b[0m\u001b[0m\n\u001b[0m\u001b[0;32m      8\u001b[0m     \u001b[0mname\u001b[0m \u001b[1;33m=\u001b[0m \u001b[0mfile\u001b[0m\u001b[1;33m.\u001b[0m\u001b[0mreplace\u001b[0m\u001b[1;33m(\u001b[0m\u001b[1;34m'.h5'\u001b[0m\u001b[1;33m,\u001b[0m \u001b[1;34m''\u001b[0m\u001b[1;33m)\u001b[0m\u001b[1;33m\u001b[0m\u001b[1;33m\u001b[0m\u001b[0m\n\u001b[0;32m      9\u001b[0m \u001b[1;33m\u001b[0m\u001b[0m\n",
      "\u001b[1;32mc:\\python37\\lib\\site-packages\\keras\\utils\\traceback_utils.py\u001b[0m in \u001b[0;36merror_handler\u001b[1;34m(*args, **kwargs)\u001b[0m\n\u001b[0;32m     68\u001b[0m             \u001b[1;31m# To get the full stack trace, call:\u001b[0m\u001b[1;33m\u001b[0m\u001b[1;33m\u001b[0m\u001b[1;33m\u001b[0m\u001b[0m\n\u001b[0;32m     69\u001b[0m             \u001b[1;31m# `tf.debugging.disable_traceback_filtering()`\u001b[0m\u001b[1;33m\u001b[0m\u001b[1;33m\u001b[0m\u001b[1;33m\u001b[0m\u001b[0m\n\u001b[1;32m---> 70\u001b[1;33m             \u001b[1;32mraise\u001b[0m \u001b[0me\u001b[0m\u001b[1;33m.\u001b[0m\u001b[0mwith_traceback\u001b[0m\u001b[1;33m(\u001b[0m\u001b[0mfiltered_tb\u001b[0m\u001b[1;33m)\u001b[0m \u001b[1;32mfrom\u001b[0m \u001b[1;32mNone\u001b[0m\u001b[1;33m\u001b[0m\u001b[1;33m\u001b[0m\u001b[0m\n\u001b[0m\u001b[0;32m     71\u001b[0m         \u001b[1;32mfinally\u001b[0m\u001b[1;33m:\u001b[0m\u001b[1;33m\u001b[0m\u001b[1;33m\u001b[0m\u001b[0m\n\u001b[0;32m     72\u001b[0m             \u001b[1;32mdel\u001b[0m \u001b[0mfiltered_tb\u001b[0m\u001b[1;33m\u001b[0m\u001b[1;33m\u001b[0m\u001b[0m\n",
      "\u001b[1;32mc:\\python37\\lib\\site-packages\\keras\\engine\\input_layer.py\u001b[0m in \u001b[0;36m__init__\u001b[1;34m(self, input_shape, batch_size, dtype, input_tensor, sparse, name, ragged, type_spec, **kwargs)\u001b[0m\n\u001b[0;32m    151\u001b[0m         \u001b[1;32mif\u001b[0m \u001b[0mkwargs\u001b[0m\u001b[1;33m:\u001b[0m\u001b[1;33m\u001b[0m\u001b[1;33m\u001b[0m\u001b[0m\n\u001b[0;32m    152\u001b[0m             raise ValueError(\n\u001b[1;32m--> 153\u001b[1;33m                 \u001b[1;34mf\"Unrecognized keyword arguments: {list(kwargs.keys())}\"\u001b[0m\u001b[1;33m\u001b[0m\u001b[1;33m\u001b[0m\u001b[0m\n\u001b[0m\u001b[0;32m    154\u001b[0m             )\n\u001b[0;32m    155\u001b[0m \u001b[1;33m\u001b[0m\u001b[0m\n",
      "\u001b[1;31mValueError\u001b[0m: Unrecognized keyword arguments: ['batch_shape']"
     ]
    }
   ],
   "source": [
    "# Cari semua file .h5 model di folder ini (kecuali dataset.h5)\n",
    "model_files = [f for f in os.listdir() if f.endswith('.h5') and f != 'dataset.h5']\n",
    "\n",
    "eval_results = {}\n",
    "\n",
    "for file in model_files:\n",
    "    model = load_model(file, compile=False)\n",
    "    name = file.replace('.h5', '')\n",
    "    \n",
    "    y_pred = np.argmax(model.predict(x_test), axis=1)\n",
    "    y_true = np.argmax(y_test, axis=1)\n",
    "\n",
    "    precision = precision_score(y_true, y_pred, average='macro')\n",
    "    recall = recall_score(y_true, y_pred, average='macro')\n",
    "    f1 = f1_score(y_true, y_pred, average='macro')\n",
    "    \n",
    "    print(f\"\\nModel: {name}\")\n",
    "    print(classification_report(y_true, y_pred))\n",
    "    \n",
    "    eval_results[name] = [precision, recall, f1]\n",
    "\n",
    "# Simpan ke CSV\n",
    "df_eval = pd.DataFrame.from_dict(eval_results, orient='index', columns=['Precision', 'Recall', 'F1-Score'])\n",
    "df_eval.to_csv(\"evaluasi_semua_model.csv\")"
   ]
  },
  {
   "cell_type": "code",
   "execution_count": 5,
   "id": "b004431c",
   "metadata": {},
   "outputs": [
    {
     "name": "stdout",
     "output_type": "stream",
     "text": [
      "ResNet101_aug_bs16.h5 → GAGAL dibaca: 'str' object has no attribute 'decode'\n",
      "ResNet101_aug_bs32.h5 → GAGAL dibaca: 'str' object has no attribute 'decode'\n",
      "ResNet101_noaug_bs16.h5 → GAGAL dibaca: 'str' object has no attribute 'decode'\n",
      "ResNet101_noaug_bs32.h5 → GAGAL dibaca: 'str' object has no attribute 'decode'\n",
      "ResNet152_aug_bs16.h5 → GAGAL dibaca: 'str' object has no attribute 'decode'\n",
      "ResNet152_aug_bs32.h5 → GAGAL dibaca: 'str' object has no attribute 'decode'\n",
      "ResNet152_noaug_bs16.h5 → GAGAL dibaca: 'str' object has no attribute 'decode'\n",
      "ResNet152_noaug_bs32.h5 → GAGAL dibaca: 'str' object has no attribute 'decode'\n",
      "ResNet50_aug_bs16.h5 → GAGAL dibaca: 'str' object has no attribute 'decode'\n",
      "ResNet50_aug_bs32.h5 → GAGAL dibaca: 'str' object has no attribute 'decode'\n",
      "ResNet50_noaug_bs16.h5 → GAGAL dibaca: 'str' object has no attribute 'decode'\n",
      "ResNet50_noaug_bs32.h5 → GAGAL dibaca: 'str' object has no attribute 'decode'\n"
     ]
    }
   ],
   "source": [
    "# Ambil semua file .h5 kecuali dataset\n",
    "model_files = [f for f in os.listdir() if f.endswith('.h5') and f != 'dataset.h5']\n",
    "\n",
    "# Loop untuk tiap file dan cetak informasi versi\n",
    "for file in model_files:\n",
    "    try:\n",
    "        with h5py.File(file, \"r\") as f:\n",
    "            keras_ver = f.attrs.get('keras_version', b'unknown').decode('utf-8')\n",
    "            backend = f.attrs.get('backend', b'unknown').decode('utf-8')\n",
    "            print(f\"{file} → Keras version: {keras_ver}, Backend: {backend}\")\n",
    "    except Exception as e:\n",
    "        print(f\"{file} → GAGAL dibaca: {e}\")"
   ]
  },
  {
   "cell_type": "code",
   "execution_count": 6,
   "id": "1f2fd7da",
   "metadata": {},
   "outputs": [
    {
     "name": "stdout",
     "output_type": "stream",
     "text": [
      "ResNet101_aug_bs16.h5 → Keras version: 2.11.0, Backend: tensorflow\n",
      "ResNet101_aug_bs32.h5 → Keras version: 2.11.0, Backend: tensorflow\n",
      "ResNet101_noaug_bs16.h5 → Keras version: 3.10.0, Backend: tensorflow\n",
      "ResNet101_noaug_bs32.h5 → Keras version: 2.11.0, Backend: tensorflow\n",
      "ResNet152_aug_bs16.h5 → Keras version: 2.11.0, Backend: tensorflow\n",
      "ResNet152_aug_bs32.h5 → Keras version: 2.11.0, Backend: tensorflow\n",
      "ResNet152_noaug_bs16.h5 → Keras version: 3.10.0, Backend: tensorflow\n",
      "ResNet152_noaug_bs32.h5 → Keras version: 2.11.0, Backend: tensorflow\n",
      "ResNet50_aug_bs16.h5 → Keras version: 2.11.0, Backend: tensorflow\n",
      "ResNet50_aug_bs32.h5 → Keras version: 2.11.0, Backend: tensorflow\n",
      "ResNet50_noaug_bs16.h5 → Keras version: 3.10.0, Backend: tensorflow\n",
      "ResNet50_noaug_bs32.h5 → Keras version: 3.10.0, Backend: tensorflow\n"
     ]
    }
   ],
   "source": [
    "import h5py\n",
    "import os\n",
    "\n",
    "# Ambil semua file .h5 kecuali dataset\n",
    "model_files = [f for f in os.listdir() if f.endswith('.h5') and f != 'dataset.h5']\n",
    "\n",
    "# Loop untuk tiap file dan cetak informasi versi\n",
    "for file in model_files:\n",
    "    try:\n",
    "        with h5py.File(file, \"r\") as f:\n",
    "            keras_ver = f.attrs.get('keras_version', 'unknown')\n",
    "            backend = f.attrs.get('backend', 'unknown')\n",
    "            print(f\"{file} → Keras version: {keras_ver}, Backend: {backend}\")\n",
    "    except Exception as e:\n",
    "        print(f\"{file} → GAGAL dibaca: {e}\")"
   ]
  },
  {
   "cell_type": "code",
   "execution_count": null,
   "id": "c48e6a95",
   "metadata": {},
   "outputs": [],
   "source": [
    "model_files = [\n",
    "    \"ResNet101_aug_bs16.h5\", \"ResNet101_aug_bs32.h5\",\n",
    "    \"ResNet101_noaug_bs32.h5\", \"ResNet152_aug_bs16.h5\",\n",
    "    \"ResNet152_aug_bs32.h5\", \"ResNet152_noaug_bs32.h5\",\n",
    "    \"ResNet50_aug_bs16.h5\", \"ResNet50_aug_bs32.h5\"\n",
    "]\n"
   ]
  },
  {
   "cell_type": "code",
   "execution_count": 3,
   "id": "152d3aec-7bae-45b2-bf58-5b540a9998ec",
   "metadata": {},
   "outputs": [],
   "source": [
    "# Load test data dari HDF5\n",
    "with h5py.File(\"dataset.h5\", \"r\") as f:\n",
    "    x_test = f['test_images'][:]\n",
    "    y_test = f['test_labels'][:]\n",
    "\n",
    "model_files = [\n",
    "    \"ResNet101_noaug_bs16.h5\",\n",
    "    \"ResNet152_noaug_bs16.h5\",\n",
    "    \"ResNet50_noaug_bs16.h5\",\n",
    "    \"ResNet50_noaug_bs32.h5\"\n",
    "]"
   ]
  },
  {
   "cell_type": "code",
   "execution_count": 4,
   "id": "c5b5d58c",
   "metadata": {},
   "outputs": [
    {
     "name": "stdout",
     "output_type": "stream",
     "text": [
      "\u001b[1m15/15\u001b[0m \u001b[32m━━━━━━━━━━━━━━━━━━━━\u001b[0m\u001b[37m\u001b[0m \u001b[1m70s\u001b[0m 4s/step\n"
     ]
    },
    {
     "name": "stderr",
     "output_type": "stream",
     "text": [
      "C:\\Users\\ASUS\\AppData\\Roaming\\Python\\Python311\\site-packages\\sklearn\\metrics\\_classification.py:1706: UndefinedMetricWarning: Precision is ill-defined and being set to 0.0 in labels with no predicted samples. Use `zero_division` parameter to control this behavior.\n",
      "  _warn_prf(average, modifier, f\"{metric.capitalize()} is\", result.shape[0])\n",
      "C:\\Users\\ASUS\\AppData\\Roaming\\Python\\Python311\\site-packages\\sklearn\\metrics\\_classification.py:1706: UndefinedMetricWarning: Precision is ill-defined and being set to 0.0 in labels with no predicted samples. Use `zero_division` parameter to control this behavior.\n",
      "  _warn_prf(average, modifier, f\"{metric.capitalize()} is\", result.shape[0])\n",
      "C:\\Users\\ASUS\\AppData\\Roaming\\Python\\Python311\\site-packages\\sklearn\\metrics\\_classification.py:1706: UndefinedMetricWarning: Precision is ill-defined and being set to 0.0 in labels with no predicted samples. Use `zero_division` parameter to control this behavior.\n",
      "  _warn_prf(average, modifier, f\"{metric.capitalize()} is\", result.shape[0])\n",
      "C:\\Users\\ASUS\\AppData\\Roaming\\Python\\Python311\\site-packages\\sklearn\\metrics\\_classification.py:1706: UndefinedMetricWarning: Precision is ill-defined and being set to 0.0 in labels with no predicted samples. Use `zero_division` parameter to control this behavior.\n",
      "  _warn_prf(average, modifier, f\"{metric.capitalize()} is\", result.shape[0])\n"
     ]
    },
    {
     "name": "stdout",
     "output_type": "stream",
     "text": [
      "\n",
      "Model: ResNet101_noaug_bs16\n",
      "              precision    recall  f1-score   support\n",
      "\n",
      "           0       0.20      0.37      0.26        59\n",
      "           1       0.44      0.07      0.12        59\n",
      "           2       0.21      0.05      0.08        61\n",
      "           3       0.00      0.00      0.00        60\n",
      "           4       0.08      0.04      0.05        51\n",
      "           5       0.00      0.00      0.00        53\n",
      "           6       0.18      1.00      0.30        51\n",
      "           7       0.25      0.03      0.06        58\n",
      "\n",
      "    accuracy                           0.19       452\n",
      "   macro avg       0.17      0.20      0.11       452\n",
      "weighted avg       0.17      0.19      0.11       452\n",
      "\n",
      "\u001b[1m15/15\u001b[0m \u001b[32m━━━━━━━━━━━━━━━━━━━━\u001b[0m\u001b[37m\u001b[0m \u001b[1m105s\u001b[0m 6s/step\n",
      "\n",
      "Model: ResNet152_noaug_bs16\n",
      "              precision    recall  f1-score   support\n",
      "\n",
      "           0       0.18      0.58      0.27        59\n",
      "           1       0.00      0.00      0.00        59\n",
      "           2       0.00      0.00      0.00        61\n",
      "           3       0.18      0.65      0.29        60\n",
      "           4       0.00      0.00      0.00        51\n",
      "           5       0.00      0.00      0.00        53\n",
      "           6       0.00      0.00      0.00        51\n",
      "           7       0.10      0.09      0.09        58\n",
      "\n",
      "    accuracy                           0.17       452\n",
      "   macro avg       0.06      0.16      0.08       452\n",
      "weighted avg       0.06      0.17      0.09       452\n",
      "\n"
     ]
    },
    {
     "name": "stderr",
     "output_type": "stream",
     "text": [
      "C:\\Users\\ASUS\\AppData\\Roaming\\Python\\Python311\\site-packages\\sklearn\\metrics\\_classification.py:1706: UndefinedMetricWarning: Precision is ill-defined and being set to 0.0 in labels with no predicted samples. Use `zero_division` parameter to control this behavior.\n",
      "  _warn_prf(average, modifier, f\"{metric.capitalize()} is\", result.shape[0])\n",
      "C:\\Users\\ASUS\\AppData\\Roaming\\Python\\Python311\\site-packages\\sklearn\\metrics\\_classification.py:1706: UndefinedMetricWarning: Precision is ill-defined and being set to 0.0 in labels with no predicted samples. Use `zero_division` parameter to control this behavior.\n",
      "  _warn_prf(average, modifier, f\"{metric.capitalize()} is\", result.shape[0])\n",
      "C:\\Users\\ASUS\\AppData\\Roaming\\Python\\Python311\\site-packages\\sklearn\\metrics\\_classification.py:1706: UndefinedMetricWarning: Precision is ill-defined and being set to 0.0 in labels with no predicted samples. Use `zero_division` parameter to control this behavior.\n",
      "  _warn_prf(average, modifier, f\"{metric.capitalize()} is\", result.shape[0])\n",
      "C:\\Users\\ASUS\\AppData\\Roaming\\Python\\Python311\\site-packages\\sklearn\\metrics\\_classification.py:1706: UndefinedMetricWarning: Precision is ill-defined and being set to 0.0 in labels with no predicted samples. Use `zero_division` parameter to control this behavior.\n",
      "  _warn_prf(average, modifier, f\"{metric.capitalize()} is\", result.shape[0])\n"
     ]
    },
    {
     "name": "stdout",
     "output_type": "stream",
     "text": [
      "\u001b[1m15/15\u001b[0m \u001b[32m━━━━━━━━━━━━━━━━━━━━\u001b[0m\u001b[37m\u001b[0m \u001b[1m37s\u001b[0m 2s/step\n",
      "\n",
      "Model: ResNet50_noaug_bs16\n",
      "              precision    recall  f1-score   support\n",
      "\n",
      "           0       0.00      0.00      0.00        59\n",
      "           1       0.00      0.00      0.00        59\n",
      "           2       0.67      0.03      0.06        61\n",
      "           3       0.00      0.00      0.00        60\n",
      "           4       0.13      0.22      0.16        51\n",
      "           5       0.00      0.00      0.00        53\n",
      "           6       0.14      0.96      0.24        51\n",
      "           7       0.00      0.00      0.00        58\n",
      "\n",
      "    accuracy                           0.14       452\n",
      "   macro avg       0.12      0.15      0.06       452\n",
      "weighted avg       0.12      0.14      0.05       452\n",
      "\n"
     ]
    },
    {
     "name": "stderr",
     "output_type": "stream",
     "text": [
      "C:\\Users\\ASUS\\AppData\\Roaming\\Python\\Python311\\site-packages\\sklearn\\metrics\\_classification.py:1706: UndefinedMetricWarning: Precision is ill-defined and being set to 0.0 in labels with no predicted samples. Use `zero_division` parameter to control this behavior.\n",
      "  _warn_prf(average, modifier, f\"{metric.capitalize()} is\", result.shape[0])\n",
      "C:\\Users\\ASUS\\AppData\\Roaming\\Python\\Python311\\site-packages\\sklearn\\metrics\\_classification.py:1706: UndefinedMetricWarning: Precision is ill-defined and being set to 0.0 in labels with no predicted samples. Use `zero_division` parameter to control this behavior.\n",
      "  _warn_prf(average, modifier, f\"{metric.capitalize()} is\", result.shape[0])\n",
      "C:\\Users\\ASUS\\AppData\\Roaming\\Python\\Python311\\site-packages\\sklearn\\metrics\\_classification.py:1706: UndefinedMetricWarning: Precision is ill-defined and being set to 0.0 in labels with no predicted samples. Use `zero_division` parameter to control this behavior.\n",
      "  _warn_prf(average, modifier, f\"{metric.capitalize()} is\", result.shape[0])\n",
      "C:\\Users\\ASUS\\AppData\\Roaming\\Python\\Python311\\site-packages\\sklearn\\metrics\\_classification.py:1706: UndefinedMetricWarning: Precision is ill-defined and being set to 0.0 in labels with no predicted samples. Use `zero_division` parameter to control this behavior.\n",
      "  _warn_prf(average, modifier, f\"{metric.capitalize()} is\", result.shape[0])\n"
     ]
    },
    {
     "name": "stdout",
     "output_type": "stream",
     "text": [
      "\u001b[1m15/15\u001b[0m \u001b[32m━━━━━━━━━━━━━━━━━━━━\u001b[0m\u001b[37m\u001b[0m \u001b[1m37s\u001b[0m 2s/step\n",
      "\n",
      "Model: ResNet50_noaug_bs32\n",
      "              precision    recall  f1-score   support\n",
      "\n",
      "           0       0.18      0.03      0.06        59\n",
      "           1       0.43      0.22      0.29        59\n",
      "           2       0.28      0.25      0.26        61\n",
      "           3       0.27      0.20      0.23        60\n",
      "           4       0.29      0.53      0.37        51\n",
      "           5       0.46      0.21      0.29        53\n",
      "           6       0.33      0.94      0.49        51\n",
      "           7       0.38      0.33      0.35        58\n",
      "\n",
      "    accuracy                           0.33       452\n",
      "   macro avg       0.33      0.34      0.29       452\n",
      "weighted avg       0.33      0.33      0.29       452\n",
      "\n"
     ]
    }
   ],
   "source": [
    "eval_results = {}\n",
    "\n",
    "for file in model_files:\n",
    "    model = load_model(file, compile=False)\n",
    "    name = file.replace('.h5', '')\n",
    "\n",
    "    y_pred = np.argmax(model.predict(x_test), axis=1)\n",
    "    y_true = np.argmax(y_test, axis=1)\n",
    "\n",
    "    precision = precision_score(y_true, y_pred, average='macro')\n",
    "    recall = recall_score(y_true, y_pred, average='macro')\n",
    "    f1 = f1_score(y_true, y_pred, average='macro')\n",
    "\n",
    "    print(f\"\\nModel: {name}\")\n",
    "    print(classification_report(y_true, y_pred))\n",
    "\n",
    "    eval_results[name] = [precision, recall, f1]\n",
    "\n",
    "df_eval = pd.DataFrame.from_dict(eval_results, orient='index', columns=['Precision', 'Recall', 'F1-Score'])\n",
    "df_eval.to_csv(\"evaluasi_model_keras3.csv\")\n"
   ]
  }
 ],
 "metadata": {
  "kernelspec": {
   "display_name": "Python 3 (ipykernel)",
   "language": "python",
   "name": "python3"
  },
  "language_info": {
   "codemirror_mode": {
    "name": "ipython",
    "version": 3
   },
   "file_extension": ".py",
   "mimetype": "text/x-python",
   "name": "python",
   "nbconvert_exporter": "python",
   "pygments_lexer": "ipython3",
   "version": "3.7.6"
  }
 },
 "nbformat": 4,
 "nbformat_minor": 5
}
